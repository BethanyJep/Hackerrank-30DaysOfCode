{
 "cells": [
  {
   "cell_type": "code",
   "execution_count": 2,
   "metadata": {},
   "outputs": [
    {
     "name": "stdout",
     "output_type": "stream",
     "text": [
      "4\n",
      "5\n",
      "5 \n",
      "6\n",
      "6 \n",
      "7\n",
      "7 \n",
      "8\n",
      "8 \n"
     ]
    }
   ],
   "source": [
    "# Enter your code here. Read input from STDIN. Print output to STDOUT\n",
    "num_test_cases = int(input())\n",
    "\n",
    "for i in range(num_test_cases):\n",
    "    test_string = input()\n",
    "    even_indexed_characters = '' \n",
    "    odd_indexed_characters = ''\n",
    "\n",
    "    for i in range (len(test_string)):\n",
    "        if i % 2 == 0:\n",
    "            even_indexed_characters += test_string[i]\n",
    "        else:\n",
    "            odd_indexed_characters += test_string[i]\n",
    "\n",
    "    print('{} {}'.format(even_indexed_characters , odd_indexed_characters))"
   ]
  }
 ],
 "metadata": {
  "kernelspec": {
   "display_name": "Python 3",
   "language": "python",
   "name": "python3"
  },
  "language_info": {
   "codemirror_mode": {
    "name": "ipython",
    "version": 3
   },
   "file_extension": ".py",
   "mimetype": "text/x-python",
   "name": "python",
   "nbconvert_exporter": "python",
   "pygments_lexer": "ipython3",
   "version": "3.7.1"
  }
 },
 "nbformat": 4,
 "nbformat_minor": 2
}
