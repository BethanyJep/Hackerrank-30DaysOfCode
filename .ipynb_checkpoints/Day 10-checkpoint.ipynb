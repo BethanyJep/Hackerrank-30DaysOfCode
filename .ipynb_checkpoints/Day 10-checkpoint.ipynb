{
 "cells": [
  {
   "cell_type": "code",
   "execution_count": 1,
   "metadata": {},
   "outputs": [
    {
     "name": "stdout",
     "output_type": "stream",
     "text": [
      "2\n",
      "1\n"
     ]
    }
   ],
   "source": [
    "n = int(input())\n",
    "\n",
    "max_one_count = 0\n",
    "one_count = 0\n",
    "\n",
    "while n != 0:\n",
    "\tfactor = n // 2\n",
    "\tremainder = n - 2 * factor\n",
    "\tn = factor\n",
    "\tif remainder == 1:\n",
    "\t\tone_count += 1\n",
    "\t\tmax_one_count = max(max_one_count, one_count)\n",
    "\telse:\n",
    "\t\tone_count = 0\n",
    "\n",
    "print(max_one_count)\n",
    "\n",
    "\n",
    "# if __name__ == '__main__':\n",
    "#     n = int(input())"
   ]
  }
 ],
 "metadata": {
  "kernelspec": {
   "display_name": "Python 3",
   "language": "python",
   "name": "python3"
  },
  "language_info": {
   "codemirror_mode": {
    "name": "ipython",
    "version": 3
   },
   "file_extension": ".py",
   "mimetype": "text/x-python",
   "name": "python",
   "nbconvert_exporter": "python",
   "pygments_lexer": "ipython3",
   "version": "3.7.3"
  }
 },
 "nbformat": 4,
 "nbformat_minor": 2
}
