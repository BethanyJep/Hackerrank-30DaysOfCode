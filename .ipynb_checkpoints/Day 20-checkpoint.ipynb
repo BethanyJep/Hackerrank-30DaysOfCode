{
 "cells": [
  {
   "cell_type": "code",
   "execution_count": 2,
   "metadata": {},
   "outputs": [
    {
     "name": "stdout",
     "output_type": "stream",
     "text": [
      "123\n",
      "21\n",
      "12\n",
      "12\n",
      "Array is sorted in 0 swaps.\n",
      "First Element: 12\n",
      "Last Element: 12\n"
     ]
    }
   ],
   "source": [
    "#!/bin/python3\n",
    "\n",
    "import sys\n",
    "\n",
    "n = int(input().strip())\n",
    "a = list(map(int, input().strip().split(' ')))\n",
    "# Write Your Code Here\n",
    "\n",
    "#!/bin/python3\n",
    "\n",
    "import sys\n",
    "\n",
    "def swap(a, x, y):\n",
    "\n",
    "    tmp = a[x]\n",
    "\n",
    "    a[x] = a[y]\n",
    "\n",
    "    a[y] = tmp\n",
    "\n",
    "\n",
    "\n",
    "def bubblesort(a):\n",
    "\n",
    "    n = len(a)\n",
    "\n",
    "    allSwapCount = 0\n",
    "\n",
    "    for i in range(0, n):\n",
    "\n",
    "        swapCount = 0\n",
    "\n",
    "        for j in range(0, n - 1):\n",
    "\n",
    "            if a[j] > a[j + 1]:\n",
    "\n",
    "                swap(a, j, j + 1)\n",
    "\n",
    "                swapCount += 1\n",
    "\n",
    "        if swapCount == 0:\n",
    "\n",
    "            break\n",
    "\n",
    "        else:\n",
    "\n",
    "            allSwapCount += swapCount\n",
    "\n",
    "    return (a[0], a[n - 1], allSwapCount)\n",
    "\n",
    "n = int(input().strip())\n",
    "a = list(map(int, input().strip().split(' ')))\n",
    "# Write Your Code Here\n",
    "\n",
    "\n",
    "first, last, swaps = bubblesort(a)\n",
    "\n",
    "print(\"Array is sorted in\", swaps, \"swaps.\")\n",
    "\n",
    "print(\"First Element:\", first)\n",
    "\n",
    "print(\"Last Element:\", last)\n"
   ]
  }
 ],
 "metadata": {
  "kernelspec": {
   "display_name": "Python 3",
   "language": "python",
   "name": "python3"
  },
  "language_info": {
   "codemirror_mode": {
    "name": "ipython",
    "version": 3
   },
   "file_extension": ".py",
   "mimetype": "text/x-python",
   "name": "python",
   "nbconvert_exporter": "python",
   "pygments_lexer": "ipython3",
   "version": "3.7.3"
  }
 },
 "nbformat": 4,
 "nbformat_minor": 2
}
