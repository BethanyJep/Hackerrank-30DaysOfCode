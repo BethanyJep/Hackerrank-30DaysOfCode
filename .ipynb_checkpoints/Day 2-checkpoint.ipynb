{
 "cells": [
  {
   "cell_type": "markdown",
   "metadata": {},
   "source": [
    "# Day 2 : Operators\n",
    "\n",
    "These allow you to perform certain operations on your data. There are 3 basic types:\n",
    "\n",
    "    Unary: operates on 1 operand\n",
    "    Binary: operates on 2 operands\n",
    "    Ternary: operates on 3 operands\n",
    "\n",
    "\n",
    "Arithmetic Operators\n",
    "The binary operators used for arithmetic are as follows:\n",
    "\n",
    "    +: Additive\n",
    "    -: Subtraction\n",
    "    *: Multiplication\n",
    "    /: Division\n",
    "    %: Remainder (modulo)\n",
    "\n",
    "\n",
    "Additional Operators\n",
    "\n",
    "    +: A binary operator used for String concatenation\n",
    "    ++: This unary operator is used to preincrement (increment by 1 before use) when prepended to a variable name or postincrement (increment by 1 after use) when appended to a variable.\n",
    "    --: This unary operator is used to predecrement (decrement by 1 before use) when prepended to a variable name or postdecrement (decrement by 1 after use) when appended to a variable.\n",
    "    !: This unary operator means not (negation). It's used before a variable or logical expression that evaluates to true or false.\n",
    "    ==: This binary operator is used to check the equality of 2 primitives.\n",
    "    !=: This binary operator is used to check the inequality of 2 primitives.\n",
    "    <, >, <=, >=: These are the respective binary operators for less than, greater than, less than or equal to, and greater than or equal to, and are used to compare two operands.\n",
    "    &&, ||: These are the respective binary operators used to perform logical AND and logical OR operations on two boolean (i.e.: true or false) statements.\n",
    "    ? : This ternary operator is used for simple conditional statements (i.e.: if ? then : else).\n"
   ]
  },
  {
   "cell_type": "code",
   "execution_count": 1,
   "metadata": {},
   "outputs": [
    {
     "name": "stdout",
     "output_type": "stream",
     "text": [
      "12\n",
      "8\n",
      "4\n",
      "13\n"
     ]
    }
   ],
   "source": [
    "#!/bin/python3\n",
    "\n",
    "import math\n",
    "import os\n",
    "import random\n",
    "import re\n",
    "import sys\n",
    "\n",
    "# Complete the solve function below.\n",
    "#def solve(meal_cost, tip_percent, tax_percent):\n",
    "if __name__ == '__main__':\n",
    "    meal_cost = float(input())\n",
    "    tip_percent = int(input())\n",
    "    tax_percent = int(input())\n",
    "    tip = meal_cost * tip_percent/100\n",
    "    tax = meal_cost * tax_percent/100\n",
    "    cost = round(meal_cost + tip + tax)\n",
    "print(str(cost))\n",
    "\n",
    "\n"
   ]
  }
 ],
 "metadata": {
  "kernelspec": {
   "display_name": "Python 3",
   "language": "python",
   "name": "python3"
  },
  "language_info": {
   "codemirror_mode": {
    "name": "ipython",
    "version": 3
   },
   "file_extension": ".py",
   "mimetype": "text/x-python",
   "name": "python",
   "nbconvert_exporter": "python",
   "pygments_lexer": "ipython3",
   "version": "3.7.1"
  }
 },
 "nbformat": 4,
 "nbformat_minor": 2
}
