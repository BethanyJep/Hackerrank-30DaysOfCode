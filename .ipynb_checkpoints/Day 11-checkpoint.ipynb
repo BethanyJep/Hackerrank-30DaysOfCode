{
 "cells": [
  {
   "cell_type": "code",
   "execution_count": 2,
   "metadata": {},
   "outputs": [
    {
     "name": "stdout",
     "output_type": "stream",
     "text": [
      "3\n",
      "3\n",
      "3\n",
      "3\n",
      "3\n",
      "3\n",
      "-63\n"
     ]
    }
   ],
   "source": [
    "## !/bin/python3\n",
    "\n",
    "import math\n",
    "import os\n",
    "import random\n",
    "import re\n",
    "import sys\n",
    "\n",
    "\n",
    "\n",
    "arr = []\n",
    "for arr_i in range(6):\n",
    "    arr_t = [int(arr_temp) for arr_temp in input().strip().split(' ')]\n",
    "    arr.append(arr_t)\n",
    "\n",
    "smax = -9 * 7\n",
    "\n",
    "for row in range(len(arr) - 2):\n",
    "    for column in range(len(arr[row]) - 2):\n",
    "        tl = arr[row][column]\n",
    "        tc = arr[row][column + 1]\n",
    "        tr = arr[row][column + 2]\n",
    "        mc = arr[row + 1][column + 1]\n",
    "        bl = arr[row + 2][column]\n",
    "        bc = arr[row + 2][column + 1]\n",
    "        br = arr[row + 2][column + 2]\n",
    "        s = tl + tc + tr + mc + bl + bc + br\n",
    "        smax = max(s, smax)\n",
    "\n",
    "print(smax)\n",
    "\n",
    "\n",
    "\n",
    "# if __name__ == '__main__':\n",
    "#     arr = []\n",
    "\n",
    "#     for _ in range(6):\n",
    "#         arr.append(list(map(int, input().rstrip().split())))"
   ]
  }
 ],
 "metadata": {
  "kernelspec": {
   "display_name": "Python 3",
   "language": "python",
   "name": "python3"
  },
  "language_info": {
   "codemirror_mode": {
    "name": "ipython",
    "version": 3
   },
   "file_extension": ".py",
   "mimetype": "text/x-python",
   "name": "python",
   "nbconvert_exporter": "python",
   "pygments_lexer": "ipython3",
   "version": "3.7.3"
  }
 },
 "nbformat": 4,
 "nbformat_minor": 2
}
