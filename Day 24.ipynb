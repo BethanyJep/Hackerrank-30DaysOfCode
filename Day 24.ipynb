{
 "cells": [
  {
   "cell_type": "code",
   "execution_count": 1,
   "metadata": {},
   "outputs": [
    {
     "name": "stdout",
     "output_type": "stream",
     "text": [
      "12\n",
      "12\n",
      "23\n",
      "123\n",
      "1231\n",
      "2141\n",
      "3454\n",
      "46\n",
      "76544\n",
      "323\n",
      "245\n",
      "6\n",
      "4\n",
      "12 23 123 1231 2141 3454 46 76544 323 245 6 4 "
     ]
    }
   ],
   "source": [
    "class Node:\n",
    "    def __init__(self,data):\n",
    "        self.data = data\n",
    "        self.next = None \n",
    "class Solution: \n",
    "    def insert(self,head,data):\n",
    "            p = Node(data)           \n",
    "            if head==None:\n",
    "                head=p\n",
    "            elif head.next==None:\n",
    "                head.next=p\n",
    "            else:\n",
    "                start=head\n",
    "                while(start.next!=None):\n",
    "                    start=start.next\n",
    "                start.next=p\n",
    "            return head  \n",
    "    def display(self,head):\n",
    "        current = head\n",
    "        while current:\n",
    "            print(current.data,end=' ')\n",
    "            current = current.next\n",
    "\n",
    "    def removeDuplicates(self,head):\n",
    "        #Write your code here243\n",
    "        55\n",
    "        previous = head\n",
    "\n",
    "        s = set()\n",
    "\n",
    "        s.add(previous.data)\n",
    "\n",
    "        current = previous.next\n",
    "\n",
    "        while current:\n",
    "\n",
    "            if current.data in s:\n",
    "\n",
    "                previous.next = current.next\n",
    "\n",
    "            else:\n",
    "\n",
    "                s.add(current.data)\n",
    "\n",
    "                previous = current\n",
    "\n",
    "            current = current.next\n",
    "\n",
    "        return head\n",
    "\n",
    "mylist= Solution()\n",
    "T=int(input())\n",
    "head=None\n",
    "for i in range(T):\n",
    "    data=int(input())\n",
    "    head=mylist.insert(head,data)    \n",
    "head=mylist.removeDuplicates(head)\n",
    "mylist.display(head); "
   ]
  }
 ],
 "metadata": {
  "kernelspec": {
   "display_name": "Python 3",
   "language": "python",
   "name": "python3"
  },
  "language_info": {
   "codemirror_mode": {
    "name": "ipython",
    "version": 3
   },
   "file_extension": ".py",
   "mimetype": "text/x-python",
   "name": "python",
   "nbconvert_exporter": "python",
   "pygments_lexer": "ipython3",
   "version": "3.7.3"
  }
 },
 "nbformat": 4,
 "nbformat_minor": 2
}
