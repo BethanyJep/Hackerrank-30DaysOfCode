{
 "cells": [
  {
   "cell_type": "code",
   "execution_count": null,
   "metadata": {},
   "outputs": [],
   "source": [
    "## Enter your code here. Read input from STDIN. Print output to STDOUT\n",
    "\n",
    "# Enter your code here. Read input from STDIN. Print output to STDOUT\n",
    "\n",
    "def is_prime(n):\n",
    "\n",
    "    if n == 1:\n",
    "\n",
    "        return False\n",
    "\n",
    "    else:\n",
    "\n",
    "        square_root = int(n**0.5)\n",
    "\n",
    "        for i in range(2, square_root + 1):\n",
    "\n",
    "            if ((n % i) == 0) and (i != n):\n",
    "\n",
    "                return False\n",
    "\n",
    "        return True\n",
    "\n",
    "\n",
    "\n",
    "\n",
    "\n",
    "t = int(input())\n",
    "\n",
    "for _ in range(t):\n",
    "\n",
    "    n = int(input())\n",
    "\n",
    "    if is_prime(n):\n",
    "\n",
    "        print(\"Prime\")\n",
    "\n",
    "    else:\n",
    "\n",
    "        print(\"Not prime\")\n",
    "\n"
   ]
  }
 ],
 "metadata": {
  "kernelspec": {
   "display_name": "Python 3",
   "language": "python",
   "name": "python3"
  },
  "language_info": {
   "codemirror_mode": {
    "name": "ipython",
    "version": 3
   },
   "file_extension": ".py",
   "mimetype": "text/x-python",
   "name": "python",
   "nbconvert_exporter": "python",
   "pygments_lexer": "ipython3",
   "version": "3.7.3"
  }
 },
 "nbformat": 4,
 "nbformat_minor": 2
}
