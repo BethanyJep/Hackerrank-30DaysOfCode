{
  "nbformat": 4,
  "nbformat_minor": 0,
  "metadata": {
    "colab": {
      "name": "coding challlenge.ipynb",
      "provenance": [],
      "authorship_tag": "ABX9TyPm6/XIaIAr4mOUEAuIyE8a",
      "include_colab_link": true
    },
    "kernelspec": {
      "name": "python3",
      "display_name": "Python 3"
    }
  },
  "cells": [
    {
      "cell_type": "markdown",
      "metadata": {
        "id": "view-in-github",
        "colab_type": "text"
      },
      "source": [
        "<a href=\"https://colab.research.google.com/github/BethanyJep/Hackerrank-30DaysOfCode/blob/master/coding_challlenge.ipynb\" target=\"_parent\"><img src=\"https://colab.research.google.com/assets/colab-badge.svg\" alt=\"Open In Colab\"/></a>"
      ]
    },
    {
      "cell_type": "code",
      "metadata": {
        "colab": {
          "base_uri": "https://localhost:8080/"
        },
        "id": "UfYUJIcifcV7",
        "outputId": "d1766ed8-209b-481f-f150-86e961f95dc3"
      },
      "source": [
        "x = 2\r\n",
        "\r\n",
        "while x < 5:\r\n",
        "    print(x)\r\n",
        "    x = x + 1"
      ],
      "execution_count": 3,
      "outputs": [
        {
          "output_type": "stream",
          "text": [
            "2\n",
            "3\n",
            "4\n"
          ],
          "name": "stdout"
        }
      ]
    },
    {
      "cell_type": "code",
      "metadata": {
        "colab": {
          "base_uri": "https://localhost:8080/"
        },
        "id": "SD7ycdR6Uob0",
        "outputId": "a894cd9e-e11f-49f4-996e-bcea619283c6"
      },
      "source": [
        "A = int(input('Enter number A: '))\r\n",
        "B = int(input('Enter number B: '))\r\n",
        "C = int(input('Enter number C: '))\r\n",
        "\r\n",
        "def largestNumber():\r\n",
        "    numberList = []\r\n",
        "    numberList.append(A)\r\n",
        "    numberList.append(B)\r\n",
        "    numberList.append(C)\r\n",
        "    numberList.sort()\r\n",
        "    print('Largest number is: ', max(numberList))\r\n",
        "\r\n",
        "largestNumber()"
      ],
      "execution_count": 30,
      "outputs": [
        {
          "output_type": "stream",
          "text": [
            "Enter number A: 23\n",
            "Enter number B: 56\n",
            "Enter number C: 75\n",
            "Largest number is:  75\n"
          ],
          "name": "stdout"
        }
      ]
    },
    {
      "cell_type": "code",
      "metadata": {
        "colab": {
          "base_uri": "https://localhost:8080/"
        },
        "id": "zintE5V-Rjzs",
        "outputId": "a7b95bd5-7583-45d2-b923-3b55a4db45c3"
      },
      "source": [
        "# 1234 //\r\n",
        "# 1234 % 3\r\n",
        "# 1234%5\r\n",
        "1234 // 10"
      ],
      "execution_count": 24,
      "outputs": [
        {
          "output_type": "execute_result",
          "data": {
            "text/plain": [
              "123"
            ]
          },
          "metadata": {
            "tags": []
          },
          "execution_count": 24
        }
      ]
    }
  ]
}