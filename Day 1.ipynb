{
 "cells": [
  {
   "cell_type": "code",
   "execution_count": 1,
   "metadata": {},
   "outputs": [
    {
     "name": "stdout",
     "output_type": "stream",
     "text": [
      "23\n",
      "23\n",
      "23\n",
      "27\n",
      "27.0\n",
      "HackerRank 23\n"
     ]
    }
   ],
   "source": [
    "i = 4\n",
    "d = 4.0\n",
    "s = 'HackerRank '\n",
    "# Declare second integer, double, and String variables.\n",
    "# Read and save an integer, double, and String to your variables.\n",
    "input_int =int(input())\n",
    "input_double = float (input())\n",
    "input_string = str(input())\n",
    "# Print the sum of both integer variables on a new line.\n",
    "print(i + input_int)\n",
    "# Print the sum of the double variables on a new line.\n",
    "print(round(d + input_double, 1))\n",
    "# Concatenate and print the String variables on a new line\n",
    "# The 's' variable above should be printed first.\n",
    "print(s + input_string)"
   ]
  },
  {
   "cell_type": "code",
   "execution_count": null,
   "metadata": {},
   "outputs": [],
   "source": []
  }
 ],
 "metadata": {
  "kernelspec": {
   "display_name": "Python 3",
   "language": "python",
   "name": "python3"
  },
  "language_info": {
   "codemirror_mode": {
    "name": "ipython",
    "version": 3
   },
   "file_extension": ".py",
   "mimetype": "text/x-python",
   "name": "python",
   "nbconvert_exporter": "python",
   "pygments_lexer": "ipython3",
   "version": "3.7.3"
  }
 },
 "nbformat": 4,
 "nbformat_minor": 2
}
