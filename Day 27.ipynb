{
 "cells": [
  {
   "cell_type": "code",
   "execution_count": 2,
   "metadata": {},
   "outputs": [],
   "source": [
    "\n",
    "class TestDataEmptyArray(object):\n",
    "    \n",
    "    @staticmethod\n",
    "    def get_array():\n",
    "        return []\n",
    "        # complete this function\n",
    "\n",
    "class TestDataUniqueValues(object):\n",
    "    data = []\n",
    "    for i in range(5):\n",
    "        data.append(i)\n",
    "    data[::-1] \n",
    "    \n",
    "    @staticmethod\n",
    "    def get_array():\n",
    "        return TestDataUniqueValues.data\n",
    "    @staticmethod\n",
    "    def get_expected_result():\n",
    "        data = TestDataUniqueValues.get_array()\n",
    "        return data.index(min(data))\n",
    "# complete this function\n",
    "class TestDataExactlyTwoDifferentMinimums(object):\n",
    "    data = []\n",
    "    for i in range(5):\n",
    "        data.append(i)\n",
    "    data[::-1] \n",
    "    data.insert(0,0)\n",
    "    \n",
    "    @staticmethod\n",
    "    def get_array():\n",
    "        return TestDataExactlyTwoDifferentMinimums.data\n",
    "    @staticmethod\n",
    "    def get_expected_result():\n",
    "        data = TestDataExactlyTwoDifferentMinimums.get_array()\n",
    "        return data.index(min(data))\n",
    "\n"
   ]
  }
 ],
 "metadata": {
  "kernelspec": {
   "display_name": "Python 3",
   "language": "python",
   "name": "python3"
  },
  "language_info": {
   "codemirror_mode": {
    "name": "ipython",
    "version": 3
   },
   "file_extension": ".py",
   "mimetype": "text/x-python",
   "name": "python",
   "nbconvert_exporter": "python",
   "pygments_lexer": "ipython3",
   "version": "3.7.3"
  }
 },
 "nbformat": 4,
 "nbformat_minor": 2
}
